{
 "cells": [
  {
   "cell_type": "code",
   "execution_count": 1,
   "id": "b59a8290",
   "metadata": {},
   "outputs": [],
   "source": [
    "%load_ext autoreload\n",
    "%autoreload 2"
   ]
  },
  {
   "cell_type": "code",
   "execution_count": 2,
   "id": "3bb772a4",
   "metadata": {},
   "outputs": [],
   "source": [
    "from selenium import webdriver\n",
    "from selenium.webdriver.common.by import By\n",
    "import json\n",
    "import time\n",
    "import numpy as np\n",
    "import pandas as pd\n",
    "import pickle\n",
    "import os\n",
    "\n",
    "pd.set_option('display.max_columns', 200)\n",
    "pd.set_option('display.max_rows', 200)\n",
    "\n",
    "import warnings\n",
    "warnings.filterwarnings(\"ignore\")"
   ]
  },
  {
   "cell_type": "code",
   "execution_count": 3,
   "id": "1459bca3",
   "metadata": {},
   "outputs": [],
   "source": [
    "with open('./config.json', 'r') as fo:\n",
    "    conf = json.loads(fo.read())\n",
    "kib_login = conf['kib_login']\n",
    "kib_password = conf['kib_password']\n",
    "data_folder = './parsed_data'"
   ]
  },
  {
   "cell_type": "markdown",
   "id": "c507ca2b",
   "metadata": {},
   "source": [
    "# Пробуем парсинг К&Б через selenium"
   ]
  },
  {
   "cell_type": "code",
   "execution_count": 4,
   "id": "ce4bc3ab",
   "metadata": {},
   "outputs": [],
   "source": [
    "from src.kib_scrapper import LocalCatalogItems, KibCatalog, ShopSelector"
   ]
  },
  {
   "cell_type": "code",
   "execution_count": 5,
   "id": "06f03edf",
   "metadata": {},
   "outputs": [],
   "source": [
    "driver = webdriver.Edge()"
   ]
  },
  {
   "cell_type": "code",
   "execution_count": 6,
   "id": "bc4fcae1",
   "metadata": {},
   "outputs": [],
   "source": [
    "catalog = KibCatalog(driver, kib_login=kib_login, kib_password=kib_password, save_path=data_folder)"
   ]
  },
  {
   "cell_type": "code",
   "execution_count": 7,
   "id": "4e3edc0d",
   "metadata": {},
   "outputs": [],
   "source": [
    "# cities = []\n",
    "# for macro, d in catalog.shop_list.items():\n",
    "#     cities += list(d.keys())\n",
    "\n",
    "# cities_need = \"\"\"ВЛАДИМИР\"\"\"\n",
    "# cities_need = [c.lower() for c in cities_need.split('\\n')]\n",
    "# regions_to_parse = []\n",
    "# for city in cities_need:\n",
    "#     for macro, d in catalog.shop_list.items():\n",
    "#         found = False\n",
    "#         for c in d.keys():\n",
    "#             if city in c.lower():\n",
    "#                 found = True\n",
    "#                 regions_to_parse.append((macro, c))\n",
    "#                 break\n",
    "#         if found:\n",
    "#             break\n",
    "#     else:\n",
    "#         print(f'Не получилось найти город {city}')\n",
    "\n",
    "# adresses = []\n",
    "# for macro, city in regions_to_parse:\n",
    "#     adresses.append((macro, city, np.random.choice(catalog.shop_list[macro][city])))"
   ]
  },
  {
   "cell_type": "code",
   "execution_count": 8,
   "id": "55b11588",
   "metadata": {},
   "outputs": [],
   "source": [
    "adresses = [\n",
    "    ('Республика Татарстан', 'Казань', 'ул. Маршала Чуйкова, 63а'),\n",
    "    ('Самарская область', 'Самара', 'ул. Советской Армии, 17'),\n",
    "    ('Ярославская область', 'Ярославль', 'пр-кт Ленинградский, 66а'),\n",
    "    ('Нижегородская область', 'Нижний Новгород', 'ул. Василия Иванова, 9'),\n",
    "    ('Москва', 'Москва', 'ул. Весенняя, 4'),\n",
    "    ('Краснодарский край', 'Краснодар', 'ул. Агрохимическая, 117/1'),\n",
    "    ('Санкт-Петербург', 'Санкт-Петербург', 'пр-т Пискаревский, 10а'),\n",
    "    ('Новосибирская область', 'Новосибирск', 'ул. Комсомольская, 2/2'),\n",
    "    ('Свердловская область', 'Екатеринбург', 'ул. Первомайская, 35'),\n",
    "    ('Пермский край', 'Пермь', 'ул. Уинская, 35'),\n",
    "    ('Воронежская область', 'Воронеж', 'ул. Березовая роща, 62б'),\n",
    "    ('Тульская область', 'Тула', 'ул. Кутузова, 43'),\n",
    "    ('Ростовская область', 'Ростов-на-Дону', 'б-р Комарова, 20'),\n",
    "    ('Челябинская область', 'Челябинск', 'ул. Доватора, 42')\n",
    "]"
   ]
  },
  {
   "cell_type": "markdown",
   "id": "5961ca84",
   "metadata": {},
   "source": [
    "**Парсинг всего каталога**"
   ]
  },
  {
   "cell_type": "code",
   "execution_count": 9,
   "id": "582e0941",
   "metadata": {},
   "outputs": [],
   "source": [
    "# %%time\n",
    "# # catalog = KibCatalog(driver, ['Москва', 'Курская область'], ['Вода, соки, напитки'])\n",
    "# catalog = KibCatalog(driver, kib_login=kib_login, kib_password=kib_password, save_path=data_folder, regions = )\n",
    "# # with open('all_kib_catalog.pickle', 'wb') as fo:\n",
    "# #     pickle.dump(catalog.catalogs, fo)\n",
    "# # catalog.parse_all_catalogs(['Бакалея, чай, кофе'])\n",
    "# for i in range(10):\n",
    "#     try:\n",
    "#         catalog.parse_all_catalogs()\n",
    "#     except:\n",
    "#         driver.quit()\n",
    "#         driver = webdriver.Safari()\n",
    "#         catalog = KibCatalog(driver)"
   ]
  },
  {
   "cell_type": "markdown",
   "id": "03e6ed4a",
   "metadata": {},
   "source": [
    "**Парсинг отдельных магазинов**"
   ]
  },
  {
   "cell_type": "code",
   "execution_count": 10,
   "id": "4854a4d5",
   "metadata": {},
   "outputs": [],
   "source": [
    "categories = [\n",
    "    'Водка, настойки', 'Виски, бурбон', 'Коньяк, арманьяк',\n",
    "    'Текила, ром, ликер', 'Вода, соки, напитки', 'Мясо, рыба, икра',\n",
    "    'Молоко, сыры, яйцо', 'Бакалея, чай, кофе', 'Консервация, салаты',\n",
    "    'Шоколад, конфеты, мороженое', 'Хлеб, выпечка, печенье', 'Снэки',\n",
    "    'Пиво Россия', 'Корм для животных'\n",
    "]"
   ]
  },
  {
   "cell_type": "code",
   "execution_count": 11,
   "id": "72c5a4da",
   "metadata": {},
   "outputs": [
    {
     "name": "stdout",
     "output_type": "stream",
     "text": [
      "kib_Республика Татарстан_Казань_ул. Маршала Чуйкова, 63а.csv\n"
     ]
    },
    {
     "ename": "TimeoutException",
     "evalue": "Message: Загрузить форму выбора магазина.\n",
     "output_type": "error",
     "traceback": [
      "\u001b[1;31m---------------------------------------------------------------------------\u001b[0m",
      "\u001b[1;31mTimeoutException\u001b[0m                          Traceback (most recent call last)",
      "File \u001b[1;32m~\\LAB_MAD\\kib_scrapper-main\\src\\kib_scrapper.py:234\u001b[0m, in \u001b[0;36mShopSelector.open_shop_selection_window\u001b[1;34m(self)\u001b[0m\n\u001b[0;32m    230\u001b[0m \u001b[38;5;28;01mtry\u001b[39;00m:\n\u001b[0;32m    231\u001b[0m     \u001b[38;5;66;03m# Форма выбора магазина\u001b[39;00m\n\u001b[0;32m    232\u001b[0m     \u001b[38;5;28mself\u001b[39m\u001b[38;5;241m.\u001b[39mshop_selector \u001b[38;5;241m=\u001b[39m (\n\u001b[0;32m    233\u001b[0m         \u001b[43mWebDriverWait\u001b[49m\u001b[43m(\u001b[49m\u001b[38;5;28;43mself\u001b[39;49m\u001b[38;5;241;43m.\u001b[39;49m\u001b[43mdriver\u001b[49m\u001b[43m,\u001b[49m\u001b[43m \u001b[49m\u001b[43mDEFAULT_DELAY\u001b[49m\u001b[43m)\u001b[49m\n\u001b[1;32m--> 234\u001b[0m \u001b[43m        \u001b[49m\u001b[38;5;241;43m.\u001b[39;49m\u001b[43muntil\u001b[49m\u001b[43m(\u001b[49m\u001b[43mEC\u001b[49m\u001b[38;5;241;43m.\u001b[39;49m\u001b[43mpresence_of_element_located\u001b[49m\u001b[43m(\u001b[49m\u001b[43m(\u001b[49m\u001b[43mBy\u001b[49m\u001b[38;5;241;43m.\u001b[39;49m\u001b[43mID\u001b[49m\u001b[43m,\u001b[49m\u001b[43m \u001b[49m\u001b[38;5;124;43m'\u001b[39;49m\u001b[38;5;124;43mshop_select_form\u001b[39;49m\u001b[38;5;124;43m'\u001b[39;49m\u001b[43m)\u001b[49m\u001b[43m)\u001b[49m\u001b[43m)\u001b[49m\n\u001b[0;32m    235\u001b[0m     )\n\u001b[0;32m    237\u001b[0m     \u001b[38;5;66;03m# Селекторы выбора региона и города\u001b[39;00m\n",
      "File \u001b[1;32m~\\AppData\\Local\\Programs\\Python\\Python311\\Lib\\site-packages\\selenium\\webdriver\\support\\wait.py:87\u001b[0m, in \u001b[0;36mWebDriverWait.until\u001b[1;34m(self, method, message)\u001b[0m\n\u001b[0;32m     86\u001b[0m         \u001b[38;5;28;01mbreak\u001b[39;00m\n\u001b[1;32m---> 87\u001b[0m \u001b[38;5;28;01mraise\u001b[39;00m TimeoutException(message, screen, stacktrace)\n",
      "\u001b[1;31mTimeoutException\u001b[0m: Message: \nStacktrace:\n\tGetHandleVerifier [0x00007FF66C2899B2+63682]\n\tMicrosoft::Applications::Events::ILogConfiguration::operator* [0x00007FF66C211902+267730]\n\t(No symbol) [0x00007FF66BFCAC0E]\n\t(No symbol) [0x00007FF66C01B4D7]\n\t(No symbol) [0x00007FF66C01B5E8]\n\t(No symbol) [0x00007FF66C059A27]\n\t(No symbol) [0x00007FF66C03C88F]\n\t(No symbol) [0x00007FF66C00EC51]\n\t(No symbol) [0x00007FF66C056A81]\n\t(No symbol) [0x00007FF66C03C623]\n\t(No symbol) [0x00007FF66C00DA7A]\n\t(No symbol) [0x00007FF66C00CD6B]\n\t(No symbol) [0x00007FF66C00E204]\n\tMicrosoft::Applications::Events::EventProperty::to_string [0x00007FF66C455EB9+1233737]\n\t(No symbol) [0x00007FF66C08B274]\n\tMicrosoft::Applications::Events::EventProperty::~EventProperty [0x00007FF66C15329A+33498]\n\tMicrosoft::Applications::Events::EventProperty::~EventProperty [0x00007FF66C14BDD9+3609]\n\tMicrosoft::Applications::Events::EventProperty::to_string [0x00007FF66C454C54+1229028]\n\tMicrosoft::Applications::Events::ILogConfiguration::operator* [0x00007FF66C21BAA8+309112]\n\tMicrosoft::Applications::Events::ILogConfiguration::operator* [0x00007FF66C216784+287828]\n\tMicrosoft::Applications::Events::ILogConfiguration::operator* [0x00007FF66C2168B2+288130]\n\tMicrosoft::Applications::Events::ILogConfiguration::operator* [0x00007FF66C209FB1+236673]\n\tBaseThreadInitThunk [0x00007FFF0B5F7614+20]\n\tRtlUserThreadStart [0x00007FFF0CBA26B1+33]\n",
      "\nDuring handling of the above exception, another exception occurred:\n",
      "\u001b[1;31mTimeoutException\u001b[0m                          Traceback (most recent call last)",
      "Cell \u001b[1;32mIn[11], line 15\u001b[0m\n\u001b[0;32m     12\u001b[0m     \u001b[38;5;28;01mcontinue\u001b[39;00m\n\u001b[0;32m     14\u001b[0m file_path \u001b[38;5;241m=\u001b[39m \u001b[38;5;124m'\u001b[39m\u001b[38;5;124m./parsed_data/\u001b[39m\u001b[38;5;124m'\u001b[39m \u001b[38;5;241m+\u001b[39m filename\n\u001b[1;32m---> 15\u001b[0m items \u001b[38;5;241m=\u001b[39m \u001b[43mcatalog\u001b[49m\u001b[38;5;241;43m.\u001b[39;49m\u001b[43mparse_catalog\u001b[49m\u001b[43m(\u001b[49m\u001b[38;5;241;43m*\u001b[39;49m\u001b[43mad\u001b[49m\u001b[43m,\u001b[49m\u001b[43m \u001b[49m\u001b[43mcategories_needed\u001b[49m\u001b[38;5;241;43m=\u001b[39;49m\u001b[43mcategories\u001b[49m\u001b[43m)\u001b[49m\n\u001b[0;32m     16\u001b[0m df \u001b[38;5;241m=\u001b[39m items\u001b[38;5;241m.\u001b[39mget_dataframe()\n\u001b[0;32m     18\u001b[0m df\u001b[38;5;241m.\u001b[39mto_csv(file_path, index\u001b[38;5;241m=\u001b[39m\u001b[38;5;28;01mFalse\u001b[39;00m)\n",
      "File \u001b[1;32m~\\LAB_MAD\\kib_scrapper-main\\src\\kib_scrapper.py:538\u001b[0m, in \u001b[0;36mKibCatalog.parse_catalog\u001b[1;34m(self, region, city, address, categories_needed)\u001b[0m\n\u001b[0;32m    521\u001b[0m \u001b[38;5;250m\u001b[39m\u001b[38;5;124;03m\"\"\"\u001b[39;00m\n\u001b[0;32m    522\u001b[0m \u001b[38;5;124;03mПарсинг каталога заданного магазина\u001b[39;00m\n\u001b[0;32m    523\u001b[0m \n\u001b[1;32m   (...)\u001b[0m\n\u001b[0;32m    535\u001b[0m \n\u001b[0;32m    536\u001b[0m \u001b[38;5;124;03m\"\"\"\u001b[39;00m\n\u001b[0;32m    537\u001b[0m \u001b[38;5;28mself\u001b[39m\u001b[38;5;241m.\u001b[39mclose_popup_age()\n\u001b[1;32m--> 538\u001b[0m \u001b[38;5;28;43mself\u001b[39;49m\u001b[38;5;241;43m.\u001b[39;49m\u001b[43mshop_selector\u001b[49m\u001b[38;5;241;43m.\u001b[39;49m\u001b[43mselect_shop\u001b[49m\u001b[43m(\u001b[49m\u001b[43mregion\u001b[49m\u001b[43m,\u001b[49m\u001b[43m \u001b[49m\u001b[43mcity\u001b[49m\u001b[43m,\u001b[49m\u001b[43m \u001b[49m\u001b[43maddress\u001b[49m\u001b[43m)\u001b[49m\n\u001b[0;32m    539\u001b[0m \u001b[38;5;28mself\u001b[39m\u001b[38;5;241m.\u001b[39mdriver\u001b[38;5;241m.\u001b[39mget(\u001b[38;5;28mself\u001b[39m\u001b[38;5;241m.\u001b[39mcatalog_link)\n\u001b[0;32m    541\u001b[0m \u001b[38;5;66;03m# Выкачиваем список категорий\u001b[39;00m\n",
      "File \u001b[1;32m~\\LAB_MAD\\kib_scrapper-main\\src\\kib_scrapper.py:324\u001b[0m, in \u001b[0;36mShopSelector.select_shop\u001b[1;34m(self, region, city, address)\u001b[0m\n\u001b[0;32m    322\u001b[0m \u001b[38;5;66;03m# Открываем окно выбора магазина\u001b[39;00m\n\u001b[0;32m    323\u001b[0m \u001b[38;5;28mself\u001b[39m\u001b[38;5;241m.\u001b[39mupdate_state()\n\u001b[1;32m--> 324\u001b[0m \u001b[38;5;28;43mself\u001b[39;49m\u001b[38;5;241;43m.\u001b[39;49m\u001b[43mopen_shop_selection_window\u001b[49m\u001b[43m(\u001b[49m\u001b[43m)\u001b[49m\n\u001b[0;32m    326\u001b[0m \u001b[38;5;66;03m# Выбираем регион и город\u001b[39;00m\n\u001b[0;32m    327\u001b[0m \u001b[38;5;28mself\u001b[39m\u001b[38;5;241m.\u001b[39mregion_selector\u001b[38;5;241m.\u001b[39mfind_element_by_tag_name(\u001b[38;5;124m'\u001b[39m\u001b[38;5;124minput\u001b[39m\u001b[38;5;124m'\u001b[39m)\u001b[38;5;241m.\u001b[39msend_keys(region \u001b[38;5;241m+\u001b[39m Keys\u001b[38;5;241m.\u001b[39mENTER)\n",
      "File \u001b[1;32m~\\LAB_MAD\\kib_scrapper-main\\src\\kib_scrapper.py:256\u001b[0m, in \u001b[0;36mShopSelector.open_shop_selection_window\u001b[1;34m(self)\u001b[0m\n\u001b[0;32m    253\u001b[0m     \u001b[38;5;28mself\u001b[39m\u001b[38;5;241m.\u001b[39mcity_selector \u001b[38;5;241m=\u001b[39m city_selector\n\u001b[0;32m    255\u001b[0m \u001b[38;5;28;01mexcept\u001b[39;00m TimeoutException:\n\u001b[1;32m--> 256\u001b[0m     \u001b[38;5;28;01mraise\u001b[39;00m TimeoutException(\u001b[38;5;124m\"\u001b[39m\u001b[38;5;124mЗагрузить форму выбора магазина.\u001b[39m\u001b[38;5;124m\"\u001b[39m)\n",
      "\u001b[1;31mTimeoutException\u001b[0m: Message: Загрузить форму выбора магазина.\n"
     ]
    }
   ],
   "source": [
    "# adresses = [\n",
    "# #     ('Москва', 'Москва', 'пер. Лялин, 22'),\n",
    "# #     ('Москва', 'Москва', 'б-р Академика Ландау, 3'),\n",
    "#     ('Москва', 'Москва', 'Михайловский Верхн. 2-й проезд, 6')\n",
    "# ]\n",
    "for ad in adresses:\n",
    "    tag = '_'.join(ad).replace('/', '-')\n",
    "    filename = 'kib_' + tag + '.csv'\n",
    "    print(filename)\n",
    "    if filename in os.listdir('./parsed_data'):\n",
    "        print('already done')\n",
    "        continue\n",
    "    \n",
    "    file_path = './parsed_data/' + filename\n",
    "    items = catalog.parse_catalog(*ad, categories_needed=categories)\n",
    "    df = items.get_dataframe()\n",
    "    \n",
    "    df.to_csv(file_path, index=False)\n",
    "    driver.get('https://krasnoeibeloe.ru')\n",
    "    time.sleep(10)"
   ]
  },
  {
   "cell_type": "markdown",
   "id": "27c8d045",
   "metadata": {},
   "source": [
    "# Собираем файл для ребят"
   ]
  },
  {
   "cell_type": "code",
   "execution_count": null,
   "id": "ec7c719a",
   "metadata": {},
   "outputs": [],
   "source": [
    "files = os.listdir('./parsed_data')\n",
    "df = pd.read_csv('./parsed_data/kib_Свердловская область_Екатеринбург_ул. Первомайская, 35.csv')\n",
    "df = df[df.region.isnull()]\n",
    "for file in files:\n",
    "    _, ext = os.path.splitext(file)\n",
    "    if ext != '.csv':\n",
    "        continue\n",
    "    print(file)\n",
    "    curr_df = pd.read_csv('./parsed_data/' + file)\n",
    "    df = pd.concat([df, curr_df])"
   ]
  },
  {
   "cell_type": "code",
   "execution_count": null,
   "id": "e93b22d2",
   "metadata": {},
   "outputs": [],
   "source": [
    "# Выбор категорий для парсинга\n",
    "# matching = pd.read_excel('./data/matching.xlsx')\n",
    "# print(matching.shape)\n",
    "# matching = matching[['name', 'PLU ТС5']].drop_duplicates()\n",
    "# matching.columns = ['name', 'plu_ts5']\n",
    "# print(matching.shape)\n",
    "# df.merge(matching, on=['name'], how='inner')['category'].unique()"
   ]
  },
  {
   "cell_type": "code",
   "execution_count": null,
   "id": "ad10e6c0",
   "metadata": {},
   "outputs": [],
   "source": [
    "# Преобразование цены во float\n",
    "df['price'] = df.price.str.extract(r'(\\d*\\.\\d*)')\n",
    "df['price'] = df['price'].astype(float)\n",
    "df.dropna(subset=['price'], inplace=True)\n",
    "\n",
    "# Создание таблицы матчинга\n",
    "# matching = pd.read_excel('./data/Book1.xlsx')[['id', 'name', 'PLU ТС5']]\n",
    "# matching.columns = ['id', 'name', 'plu_ts5']\n",
    "# matching.dropna(subset=['plu_ts5'], inplace=True)\n",
    "# matching['plu_ts5'] = matching['plu_ts5'].astype(int).astype(str)\n",
    "# matching = matching.drop_duplicates()\n",
    "# matching.to_excel('./data/matching.xlsx', index=False)\n",
    "\n",
    "# Применение матчинга\n",
    "matching = pd.read_excel('./data/matching.xlsx')[['name', 'PLU ТС5']].drop_duplicates()\n",
    "matching.columns = ['name', 'plu_ts5']\n",
    "matching['plu_ts5'] = matching['plu_ts5'].astype(str)\n",
    "df = df.merge(matching, on='name', how='left')\n",
    "\n",
    "# сбор общей статистики\n",
    "sumup = df.dropna(subset=['plu_ts5']).groupby('plu_ts5')['price'].mean().reset_index()"
   ]
  },
  {
   "cell_type": "code",
   "execution_count": null,
   "id": "87c6a593",
   "metadata": {},
   "outputs": [],
   "source": [
    "# Сохранение данных\n",
    "writer = pd.ExcelWriter('parsed_data/kib_parsing_2022_02_06.xlsx', engine = 'xlsxwriter')\n",
    "df.to_excel(writer, sheet_name = 'date', index=False)\n",
    "sumup.to_excel(writer, sheet_name = 'sumup', index=False)\n",
    "writer.save()\n",
    "writer.close()"
   ]
  },
  {
   "cell_type": "code",
   "execution_count": null,
   "id": "282b2d2f",
   "metadata": {},
   "outputs": [],
   "source": [
    "# df.to_csv('parsed_data/kib_parsing_2022_01_30.csv', index=False, encoding='utf-16')"
   ]
  },
  {
   "cell_type": "code",
   "execution_count": null,
   "id": "99084c72",
   "metadata": {},
   "outputs": [],
   "source": [
    "df.to_excel('parsed_data/kib_parsing_2022_01_30.xlsx', index=False)"
   ]
  },
  {
   "cell_type": "code",
   "execution_count": null,
   "id": "ba55c343",
   "metadata": {},
   "outputs": [],
   "source": []
  }
 ],
 "metadata": {
  "kernelspec": {
   "display_name": "Python 3 (ipykernel)",
   "language": "python",
   "name": "python3"
  },
  "language_info": {
   "codemirror_mode": {
    "name": "ipython",
    "version": 3
   },
   "file_extension": ".py",
   "mimetype": "text/x-python",
   "name": "python",
   "nbconvert_exporter": "python",
   "pygments_lexer": "ipython3",
   "version": "3.11.4"
  }
 },
 "nbformat": 4,
 "nbformat_minor": 5
}
