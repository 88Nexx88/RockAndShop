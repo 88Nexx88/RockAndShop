{
 "cells": [
  {
   "cell_type": "code",
   "execution_count": 12,
   "id": "b59a8290",
   "metadata": {},
   "outputs": [
    {
     "name": "stdout",
     "output_type": "stream",
     "text": [
      "The autoreload extension is already loaded. To reload it, use:\n",
      "  %reload_ext autoreload\n"
     ]
    }
   ],
   "source": [
    "%load_ext autoreload\n",
    "%autoreload 2"
   ]
  },
  {
   "cell_type": "code",
   "execution_count": null,
   "id": "09ce7921-9cbb-4efc-8c82-9ed50bf453bb",
   "metadata": {},
   "outputs": [],
   "source": []
  },
  {
   "cell_type": "code",
   "execution_count": 13,
   "id": "3bb772a4",
   "metadata": {},
   "outputs": [],
   "source": [
    "\n",
    "from selenium import webdriver\n",
    "import json\n",
    "import time\n",
    "import numpy as np\n",
    "import pandas as pd\n",
    "import pickle\n",
    "import os\n",
    "\n",
    "pd.set_option('display.max_columns', 200)\n",
    "pd.set_option('display.max_rows', 200)\n",
    "\n",
    "import warnings\n",
    "warnings.filterwarnings(\"ignore\")"
   ]
  },
  {
   "cell_type": "code",
   "execution_count": 14,
   "id": "1459bca3",
   "metadata": {},
   "outputs": [],
   "source": [
    "with open('./config.json', 'r') as fo:\n",
    "    conf = json.loads(fo.read())\n",
    "kib_login = conf['kib_login']\n",
    "kib_password = conf['kib_password']\n",
    "data_folder = './parsed_data'"
   ]
  },
  {
   "cell_type": "markdown",
   "id": "c507ca2b",
   "metadata": {},
   "source": [
    "# Пробуем парсинг К&Б через selenium"
   ]
  },
  {
   "cell_type": "code",
   "execution_count": 15,
   "id": "ce4bc3ab",
   "metadata": {},
   "outputs": [],
   "source": [
    "from src.kib_scrapper import LocalCatalogItems, KibCatalog"
   ]
  },
  {
   "cell_type": "code",
   "execution_count": 16,
   "id": "06f03edf",
   "metadata": {},
   "outputs": [],
   "source": [
    "driver = webdriver.Edge()\n"
   ]
  },
  {
   "cell_type": "code",
   "execution_count": 17,
   "id": "bc4fcae1",
   "metadata": {},
   "outputs": [],
   "source": [
    "catalog = KibCatalog(driver, kib_login=kib_login, kib_password=kib_password, save_path=data_folder)"
   ]
  },
  {
   "cell_type": "markdown",
   "id": "5961ca84",
   "metadata": {},
   "source": [
    "**Парсинг всего каталога**"
   ]
  },
  {
   "cell_type": "code",
   "execution_count": null,
   "id": "582e0941",
   "metadata": {},
   "outputs": [
    {
     "name": "stdout",
     "output_type": "stream",
     "text": [
      "{}\n",
      "parse Москва -- Москва\n"
     ]
    }
   ],
   "source": [
    "%%time\n",
    "# catalog = KibCatalog(driver, ['Москва', 'Курская область'], ['Вода, соки, напитки'])\n",
    "catalog = KibCatalog(driver, kib_login=kib_login, kib_password=kib_password, save_path=data_folder)\n",
    "# with open('all_kib_catalog.pickle', 'wb') as fo:\n",
    "#     pickle.dump(catalog.catalogs, fo)\n",
    "# catalog.parse_all_catalogs(['Бакалея, чай, кофе'])\n",
    "for i in range(10):\n",
    "    try:\n",
    "        catalog.parse_all_catalogs()\n",
    "    except:\n",
    "        driver.quit()\n",
    "        driver = webdriver.Safari()\n",
    "        catalog = KibCatalog(driver)"
   ]
  },
  {
   "cell_type": "markdown",
   "id": "03e6ed4a",
   "metadata": {},
   "source": [
    "**Парсинг отдельных магазинов**"
   ]
  },
  {
   "cell_type": "code",
   "execution_count": 18,
   "id": "72c5a4da",
   "metadata": {},
   "outputs": [
    {
     "ename": "SyntaxError",
     "evalue": "f-string: unmatched '(' (3264919660.py, line 9)",
     "output_type": "error",
     "traceback": [
      "\u001b[1;36m  Cell \u001b[1;32mIn[18], line 9\u001b[1;36m\u001b[0m\n\u001b[1;33m    df.to_csv(f'./parsed_data/kib_{ad[2].replace('/', '-')}.csv', index=False)\u001b[0m\n\u001b[1;37m                                                  ^\u001b[0m\n\u001b[1;31mSyntaxError\u001b[0m\u001b[1;31m:\u001b[0m f-string: unmatched '('\n"
     ]
    }
   ],
   "source": [
    "adresses = [\n",
    "#     ('Москва', 'Москва', 'пер. Лялин, 22'),\n",
    "#     ('Москва', 'Москва', 'б-р Академика Ландау, 3'),\n",
    "    ('Москва', 'Москва', 'Михайловский Верхн. 2-й проезд, 6')\n",
    "]\n",
    "for ad in adresses:\n",
    "    items = catalog.parse_catalog(*ad)\n",
    "    df = items.get_dataframe()\n",
    "    df.to_csv(f'./parsed_data/kib_{ad[2]}.csv', index=False)"
   ]
  },
  {
   "cell_type": "code",
   "execution_count": null,
   "id": "7e36e125",
   "metadata": {},
   "outputs": [],
   "source": []
  }
 ],
 "metadata": {
  "kernelspec": {
   "display_name": "Python 3 (ipykernel)",
   "language": "python",
   "name": "python3"
  },
  "language_info": {
   "codemirror_mode": {
    "name": "ipython",
    "version": 3
   },
   "file_extension": ".py",
   "mimetype": "text/x-python",
   "name": "python",
   "nbconvert_exporter": "python",
   "pygments_lexer": "ipython3",
   "version": "3.11.4"
  }
 },
 "nbformat": 4,
 "nbformat_minor": 5
}
