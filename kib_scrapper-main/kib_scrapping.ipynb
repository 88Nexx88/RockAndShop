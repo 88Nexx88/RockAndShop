{
 "cells": [
  {
   "cell_type": "code",
   "execution_count": 1,
   "id": "b59a8290",
   "metadata": {},
   "outputs": [],
   "source": [
    "%load_ext autoreload\n",
    "%autoreload 2"
   ]
  },
  {
   "cell_type": "code",
   "execution_count": null,
   "id": "09ce7921-9cbb-4efc-8c82-9ed50bf453bb",
   "metadata": {},
   "outputs": [],
   "source": []
  },
  {
   "cell_type": "code",
   "execution_count": 2,
   "id": "3bb772a4",
   "metadata": {},
   "outputs": [],
   "source": [
    "\n",
    "from selenium import webdriver\n",
    "import json\n",
    "import time\n",
    "import numpy as np\n",
    "import pandas as pd\n",
    "import pickle\n",
    "import os\n",
    "\n",
    "pd.set_option('display.max_columns', 200)\n",
    "pd.set_option('display.max_rows', 200)\n",
    "\n",
    "import warnings\n",
    "warnings.filterwarnings(\"ignore\")"
   ]
  },
  {
   "cell_type": "code",
   "execution_count": 3,
   "id": "1459bca3",
   "metadata": {},
   "outputs": [],
   "source": [
    "with open('./config.json', 'r') as fo:\n",
    "    conf = json.loads(fo.read())\n",
    "kib_login = conf['kib_login']\n",
    "kib_password = conf['kib_password']\n",
    "data_folder = './parsed_data'"
   ]
  },
  {
   "cell_type": "markdown",
   "id": "c507ca2b",
   "metadata": {},
   "source": [
    "# Пробуем парсинг К&Б через selenium"
   ]
  },
  {
   "cell_type": "code",
   "execution_count": 5,
   "id": "ce4bc3ab",
   "metadata": {},
   "outputs": [],
   "source": [
    "from src.kib_scrapper import LocalCatalogItems, KibCatalog"
   ]
  },
  {
   "cell_type": "code",
   "execution_count": 6,
   "id": "06f03edf",
   "metadata": {},
   "outputs": [],
   "source": [
    "driver = webdriver.Edge()\n"
   ]
  },
  {
   "cell_type": "code",
   "execution_count": 7,
   "id": "bc4fcae1",
   "metadata": {},
   "outputs": [],
   "source": [
    "catalog = KibCatalog(driver, kib_login=kib_login, kib_password=kib_password, save_path=data_folder)"
   ]
  },
  {
   "cell_type": "markdown",
   "id": "5961ca84",
   "metadata": {},
   "source": [
    "**Парсинг всего каталога**"
   ]
  },
  {
   "cell_type": "code",
   "execution_count": null,
   "id": "582e0941",
   "metadata": {},
   "outputs": [],
   "source": [
    "# %%time\n",
    "# # catalog = KibCatalog(driver, ['Москва', 'Курская область'], ['Вода, соки, напитки'])\n",
    "# catalog = KibCatalog(driver, kib_login=kib_login, kib_password=kib_password, save_path=data_folder)\n",
    "# # with open('all_kib_catalog.pickle', 'wb') as fo:\n",
    "# #     pickle.dump(catalog.catalogs, fo)\n",
    "# # catalog.parse_all_catalogs(['Бакалея, чай, кофе'])\n",
    "# for i in range(10):\n",
    "#     try:\n",
    "#         catalog.parse_all_catalogs()\n",
    "#     except:\n",
    "#         driver.quit()\n",
    "#         driver = webdriver.Safari()\n",
    "#         catalog = KibCatalog(driver)"
   ]
  },
  {
   "cell_type": "markdown",
   "id": "03e6ed4a",
   "metadata": {},
   "source": [
    "**Парсинг отдельных магазинов**"
   ]
  },
  {
   "cell_type": "code",
   "execution_count": 8,
   "id": "72c5a4da",
   "metadata": {},
   "outputs": [
    {
     "ename": "AttributeError",
     "evalue": "'NoneType' object has no attribute 'find_elements_by_class_name'",
     "output_type": "error",
     "traceback": [
      "\u001b[1;31m---------------------------------------------------------------------------\u001b[0m",
      "\u001b[1;31mAttributeError\u001b[0m                            Traceback (most recent call last)",
      "Cell \u001b[1;32mIn[8], line 7\u001b[0m\n\u001b[0;32m      1\u001b[0m adresses \u001b[38;5;241m=\u001b[39m [\n\u001b[0;32m      2\u001b[0m \u001b[38;5;66;03m#     ('Москва', 'Москва', 'пер. Лялин, 22'),\u001b[39;00m\n\u001b[0;32m      3\u001b[0m \u001b[38;5;66;03m#     ('Москва', 'Москва', 'б-р Академика Ландау, 3'),\u001b[39;00m\n\u001b[0;32m      4\u001b[0m     (\u001b[38;5;124m'\u001b[39m\u001b[38;5;124mМосква\u001b[39m\u001b[38;5;124m'\u001b[39m, \u001b[38;5;124m'\u001b[39m\u001b[38;5;124mМосква\u001b[39m\u001b[38;5;124m'\u001b[39m, \u001b[38;5;124m'\u001b[39m\u001b[38;5;124mМихайловский Верхн. 2-й проезд, 6\u001b[39m\u001b[38;5;124m'\u001b[39m)\n\u001b[0;32m      5\u001b[0m ]\n\u001b[0;32m      6\u001b[0m \u001b[38;5;28;01mfor\u001b[39;00m ad \u001b[38;5;129;01min\u001b[39;00m adresses:\n\u001b[1;32m----> 7\u001b[0m     items \u001b[38;5;241m=\u001b[39m \u001b[43mcatalog\u001b[49m\u001b[38;5;241;43m.\u001b[39;49m\u001b[43mparse_catalog\u001b[49m\u001b[43m(\u001b[49m\u001b[38;5;241;43m*\u001b[39;49m\u001b[43mad\u001b[49m\u001b[43m)\u001b[49m\n\u001b[0;32m      8\u001b[0m     df \u001b[38;5;241m=\u001b[39m items\u001b[38;5;241m.\u001b[39mget_dataframe()\n\u001b[0;32m      9\u001b[0m     df\u001b[38;5;241m.\u001b[39mto_csv(\u001b[38;5;124mf\u001b[39m\u001b[38;5;124m'\u001b[39m\u001b[38;5;124m./parsed_data/kib_\u001b[39m\u001b[38;5;132;01m{\u001b[39;00mad[\u001b[38;5;241m2\u001b[39m]\u001b[38;5;132;01m}\u001b[39;00m\u001b[38;5;124m.csv\u001b[39m\u001b[38;5;124m'\u001b[39m, index\u001b[38;5;241m=\u001b[39m\u001b[38;5;28;01mFalse\u001b[39;00m)\n",
      "File \u001b[1;32m~\\LAB_MAD\\kib_scrapper-main\\src\\kib_scrapper.py:541\u001b[0m, in \u001b[0;36mKibCatalog.parse_catalog\u001b[1;34m(self, region, city, address, categories_needed)\u001b[0m\n\u001b[0;32m    524\u001b[0m \u001b[38;5;250m\u001b[39m\u001b[38;5;124;03m\"\"\"\u001b[39;00m\n\u001b[0;32m    525\u001b[0m \u001b[38;5;124;03mПарсинг каталога заданного магазина\u001b[39;00m\n\u001b[0;32m    526\u001b[0m \n\u001b[1;32m   (...)\u001b[0m\n\u001b[0;32m    538\u001b[0m \n\u001b[0;32m    539\u001b[0m \u001b[38;5;124;03m\"\"\"\u001b[39;00m\n\u001b[0;32m    540\u001b[0m \u001b[38;5;28mself\u001b[39m\u001b[38;5;241m.\u001b[39mclose_popup_age()\n\u001b[1;32m--> 541\u001b[0m \u001b[38;5;28;43mself\u001b[39;49m\u001b[38;5;241;43m.\u001b[39;49m\u001b[43mshop_selector\u001b[49m\u001b[38;5;241;43m.\u001b[39;49m\u001b[43mselect_shop\u001b[49m\u001b[43m(\u001b[49m\u001b[43mregion\u001b[49m\u001b[43m,\u001b[49m\u001b[43m \u001b[49m\u001b[43mcity\u001b[49m\u001b[43m,\u001b[49m\u001b[43m \u001b[49m\u001b[43maddress\u001b[49m\u001b[43m)\u001b[49m\n\u001b[0;32m    542\u001b[0m \u001b[38;5;28mself\u001b[39m\u001b[38;5;241m.\u001b[39mdriver\u001b[38;5;241m.\u001b[39mget(\u001b[38;5;28mself\u001b[39m\u001b[38;5;241m.\u001b[39mcatalog_link)\n\u001b[0;32m    544\u001b[0m \u001b[38;5;66;03m# Выкачиваем список категорий\u001b[39;00m\n",
      "File \u001b[1;32m~\\LAB_MAD\\kib_scrapper-main\\src\\kib_scrapper.py:327\u001b[0m, in \u001b[0;36mShopSelector.select_shop\u001b[1;34m(self, region, city, address)\u001b[0m\n\u001b[0;32m    325\u001b[0m \u001b[38;5;66;03m# Открываем окно выбора магазина\u001b[39;00m\n\u001b[0;32m    326\u001b[0m \u001b[38;5;28mself\u001b[39m\u001b[38;5;241m.\u001b[39mupdate_state()\n\u001b[1;32m--> 327\u001b[0m \u001b[38;5;28;43mself\u001b[39;49m\u001b[38;5;241;43m.\u001b[39;49m\u001b[43mopen_shop_selection_window\u001b[49m\u001b[43m(\u001b[49m\u001b[43m)\u001b[49m\n\u001b[0;32m    329\u001b[0m \u001b[38;5;66;03m# Выбираем регион и город\u001b[39;00m\n\u001b[0;32m    330\u001b[0m \u001b[38;5;28mself\u001b[39m\u001b[38;5;241m.\u001b[39mregion_selector\u001b[38;5;241m.\u001b[39mfind_element_by_tag_name(\u001b[38;5;124m'\u001b[39m\u001b[38;5;124minput\u001b[39m\u001b[38;5;124m'\u001b[39m)\u001b[38;5;241m.\u001b[39msend_keys(region \u001b[38;5;241m+\u001b[39m Keys\u001b[38;5;241m.\u001b[39mENTER)\n",
      "File \u001b[1;32m~\\LAB_MAD\\kib_scrapper-main\\src\\kib_scrapper.py:245\u001b[0m, in \u001b[0;36mShopSelector.open_shop_selection_window\u001b[1;34m(self)\u001b[0m\n\u001b[0;32m    230\u001b[0m \u001b[38;5;28;01mtry\u001b[39;00m:\n\u001b[0;32m    231\u001b[0m \u001b[38;5;250m    \u001b[39m\u001b[38;5;124;03m\"\"\"\u001b[39;00m\n\u001b[0;32m    232\u001b[0m \u001b[38;5;124;03m    # Форма выбора магазина\u001b[39;00m\n\u001b[0;32m    233\u001b[0m \u001b[38;5;124;03m    \u001b[39;00m\n\u001b[1;32m   (...)\u001b[0m\n\u001b[0;32m    243\u001b[0m \u001b[38;5;124;03m    )\u001b[39;00m\n\u001b[0;32m    244\u001b[0m \u001b[38;5;124;03m   \"\"\"\u001b[39;00m\n\u001b[1;32m--> 245\u001b[0m     selectors \u001b[38;5;241m=\u001b[39m \u001b[38;5;28;43mself\u001b[39;49m\u001b[38;5;241;43m.\u001b[39;49m\u001b[43mshop_selector\u001b[49m\u001b[38;5;241;43m.\u001b[39;49m\u001b[43mfind_elements_by_class_name\u001b[49m(\u001b[38;5;124m'\u001b[39m\u001b[38;5;124mitem_select_city\u001b[39m\u001b[38;5;124m'\u001b[39m)\n\u001b[0;32m    246\u001b[0m     region_selector, city_selector \u001b[38;5;241m=\u001b[39m \u001b[38;5;28;01mNone\u001b[39;00m, \u001b[38;5;28;01mNone\u001b[39;00m\n\u001b[0;32m    247\u001b[0m     \u001b[38;5;28;01mfor\u001b[39;00m selector \u001b[38;5;129;01min\u001b[39;00m selectors:\n",
      "\u001b[1;31mAttributeError\u001b[0m: 'NoneType' object has no attribute 'find_elements_by_class_name'"
     ]
    }
   ],
   "source": [
    "adresses = [\n",
    "#     ('Москва', 'Москва', 'пер. Лялин, 22'),\n",
    "#     ('Москва', 'Москва', 'б-р Академика Ландау, 3'),\n",
    "    ('Москва', 'Москва', 'Михайловский Верхн. 2-й проезд, 6')\n",
    "]\n",
    "for ad in adresses:\n",
    "    items = catalog.parse_catalog(*ad)\n",
    "    df = items.get_dataframe()\n",
    "    df.to_csv(f'./parsed_data/kib_{ad[2]}.csv', index=False)"
   ]
  },
  {
   "cell_type": "code",
   "execution_count": null,
   "id": "7e36e125",
   "metadata": {},
   "outputs": [],
   "source": []
  }
 ],
 "metadata": {
  "kernelspec": {
   "display_name": "Python 3 (ipykernel)",
   "language": "python",
   "name": "python3"
  },
  "language_info": {
   "codemirror_mode": {
    "name": "ipython",
    "version": 3
   },
   "file_extension": ".py",
   "mimetype": "text/x-python",
   "name": "python",
   "nbconvert_exporter": "python",
   "pygments_lexer": "ipython3",
   "version": "3.11.4"
  }
 },
 "nbformat": 4,
 "nbformat_minor": 5
}
